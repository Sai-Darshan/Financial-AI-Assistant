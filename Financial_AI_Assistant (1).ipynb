{
  "nbformat": 4,
  "nbformat_minor": 0,
  "metadata": {
    "colab": {
      "provenance": []
    },
    "kernelspec": {
      "name": "python3",
      "display_name": "Python 3"
    },
    "language_info": {
      "name": "python"
    }
  },
  "cells": [
    {
      "cell_type": "code",
      "execution_count": 1,
      "metadata": {
        "colab": {
          "base_uri": "https://localhost:8080/"
        },
        "id": "F4lvORLqcLKB",
        "outputId": "d0c19e23-0060-412a-a3f3-fb55afa09ebf"
      },
      "outputs": [
        {
          "output_type": "stream",
          "name": "stdout",
          "text": [
            "Looking in indexes: https://pypi.org/simple, https://us-python.pkg.dev/colab-wheels/public/simple/\n",
            "Collecting neuralintents\n",
            "  Downloading neuralintents-0.0.4-py3-none-any.whl (5.0 kB)\n",
            "Requirement already satisfied: tensorflow in /usr/local/lib/python3.10/dist-packages (from neuralintents) (2.12.0)\n",
            "Requirement already satisfied: nltk in /usr/local/lib/python3.10/dist-packages (from neuralintents) (3.8.1)\n",
            "Requirement already satisfied: numpy in /usr/local/lib/python3.10/dist-packages (from neuralintents) (1.22.4)\n",
            "Requirement already satisfied: regex>=2021.8.3 in /usr/local/lib/python3.10/dist-packages (from nltk->neuralintents) (2022.10.31)\n",
            "Requirement already satisfied: joblib in /usr/local/lib/python3.10/dist-packages (from nltk->neuralintents) (1.2.0)\n",
            "Requirement already satisfied: click in /usr/local/lib/python3.10/dist-packages (from nltk->neuralintents) (8.1.3)\n",
            "Requirement already satisfied: tqdm in /usr/local/lib/python3.10/dist-packages (from nltk->neuralintents) (4.65.0)\n",
            "Requirement already satisfied: six>=1.12.0 in /usr/local/lib/python3.10/dist-packages (from tensorflow->neuralintents) (1.16.0)\n",
            "Requirement already satisfied: astunparse>=1.6.0 in /usr/local/lib/python3.10/dist-packages (from tensorflow->neuralintents) (1.6.3)\n",
            "Requirement already satisfied: absl-py>=1.0.0 in /usr/local/lib/python3.10/dist-packages (from tensorflow->neuralintents) (1.4.0)\n",
            "Requirement already satisfied: packaging in /usr/local/lib/python3.10/dist-packages (from tensorflow->neuralintents) (23.1)\n",
            "Requirement already satisfied: typing-extensions>=3.6.6 in /usr/local/lib/python3.10/dist-packages (from tensorflow->neuralintents) (4.5.0)\n",
            "Requirement already satisfied: grpcio<2.0,>=1.24.3 in /usr/local/lib/python3.10/dist-packages (from tensorflow->neuralintents) (1.54.0)\n",
            "Requirement already satisfied: tensorflow-estimator<2.13,>=2.12.0 in /usr/local/lib/python3.10/dist-packages (from tensorflow->neuralintents) (2.12.0)\n",
            "Requirement already satisfied: flatbuffers>=2.0 in /usr/local/lib/python3.10/dist-packages (from tensorflow->neuralintents) (23.3.3)\n",
            "Requirement already satisfied: setuptools in /usr/local/lib/python3.10/dist-packages (from tensorflow->neuralintents) (67.7.2)\n",
            "Requirement already satisfied: protobuf!=4.21.0,!=4.21.1,!=4.21.2,!=4.21.3,!=4.21.4,!=4.21.5,<5.0.0dev,>=3.20.3 in /usr/local/lib/python3.10/dist-packages (from tensorflow->neuralintents) (3.20.3)\n",
            "Requirement already satisfied: gast<=0.4.0,>=0.2.1 in /usr/local/lib/python3.10/dist-packages (from tensorflow->neuralintents) (0.4.0)\n",
            "Requirement already satisfied: tensorflow-io-gcs-filesystem>=0.23.1 in /usr/local/lib/python3.10/dist-packages (from tensorflow->neuralintents) (0.32.0)\n",
            "Requirement already satisfied: termcolor>=1.1.0 in /usr/local/lib/python3.10/dist-packages (from tensorflow->neuralintents) (2.3.0)\n",
            "Requirement already satisfied: keras<2.13,>=2.12.0 in /usr/local/lib/python3.10/dist-packages (from tensorflow->neuralintents) (2.12.0)\n",
            "Requirement already satisfied: google-pasta>=0.1.1 in /usr/local/lib/python3.10/dist-packages (from tensorflow->neuralintents) (0.2.0)\n",
            "Requirement already satisfied: h5py>=2.9.0 in /usr/local/lib/python3.10/dist-packages (from tensorflow->neuralintents) (3.8.0)\n",
            "Requirement already satisfied: jax>=0.3.15 in /usr/local/lib/python3.10/dist-packages (from tensorflow->neuralintents) (0.4.8)\n",
            "Requirement already satisfied: wrapt<1.15,>=1.11.0 in /usr/local/lib/python3.10/dist-packages (from tensorflow->neuralintents) (1.14.1)\n",
            "Requirement already satisfied: libclang>=13.0.0 in /usr/local/lib/python3.10/dist-packages (from tensorflow->neuralintents) (16.0.0)\n",
            "Requirement already satisfied: tensorboard<2.13,>=2.12 in /usr/local/lib/python3.10/dist-packages (from tensorflow->neuralintents) (2.12.2)\n",
            "Requirement already satisfied: opt-einsum>=2.3.2 in /usr/local/lib/python3.10/dist-packages (from tensorflow->neuralintents) (3.3.0)\n",
            "Requirement already satisfied: wheel<1.0,>=0.23.0 in /usr/local/lib/python3.10/dist-packages (from astunparse>=1.6.0->tensorflow->neuralintents) (0.40.0)\n",
            "Requirement already satisfied: scipy>=1.7 in /usr/local/lib/python3.10/dist-packages (from jax>=0.3.15->tensorflow->neuralintents) (1.10.1)\n",
            "Requirement already satisfied: ml-dtypes>=0.0.3 in /usr/local/lib/python3.10/dist-packages (from jax>=0.3.15->tensorflow->neuralintents) (0.1.0)\n",
            "Requirement already satisfied: tensorboard-plugin-wit>=1.6.0 in /usr/local/lib/python3.10/dist-packages (from tensorboard<2.13,>=2.12->tensorflow->neuralintents) (1.8.1)\n",
            "Requirement already satisfied: google-auth-oauthlib<1.1,>=0.5 in /usr/local/lib/python3.10/dist-packages (from tensorboard<2.13,>=2.12->tensorflow->neuralintents) (1.0.0)\n",
            "Requirement already satisfied: requests<3,>=2.21.0 in /usr/local/lib/python3.10/dist-packages (from tensorboard<2.13,>=2.12->tensorflow->neuralintents) (2.27.1)\n",
            "Requirement already satisfied: werkzeug>=1.0.1 in /usr/local/lib/python3.10/dist-packages (from tensorboard<2.13,>=2.12->tensorflow->neuralintents) (2.3.0)\n",
            "Requirement already satisfied: tensorboard-data-server<0.8.0,>=0.7.0 in /usr/local/lib/python3.10/dist-packages (from tensorboard<2.13,>=2.12->tensorflow->neuralintents) (0.7.0)\n",
            "Requirement already satisfied: markdown>=2.6.8 in /usr/local/lib/python3.10/dist-packages (from tensorboard<2.13,>=2.12->tensorflow->neuralintents) (3.4.3)\n",
            "Requirement already satisfied: google-auth<3,>=1.6.3 in /usr/local/lib/python3.10/dist-packages (from tensorboard<2.13,>=2.12->tensorflow->neuralintents) (2.17.3)\n",
            "Requirement already satisfied: pyasn1-modules>=0.2.1 in /usr/local/lib/python3.10/dist-packages (from google-auth<3,>=1.6.3->tensorboard<2.13,>=2.12->tensorflow->neuralintents) (0.3.0)\n",
            "Requirement already satisfied: rsa<5,>=3.1.4 in /usr/local/lib/python3.10/dist-packages (from google-auth<3,>=1.6.3->tensorboard<2.13,>=2.12->tensorflow->neuralintents) (4.9)\n",
            "Requirement already satisfied: cachetools<6.0,>=2.0.0 in /usr/local/lib/python3.10/dist-packages (from google-auth<3,>=1.6.3->tensorboard<2.13,>=2.12->tensorflow->neuralintents) (5.3.0)\n",
            "Requirement already satisfied: requests-oauthlib>=0.7.0 in /usr/local/lib/python3.10/dist-packages (from google-auth-oauthlib<1.1,>=0.5->tensorboard<2.13,>=2.12->tensorflow->neuralintents) (1.3.1)\n",
            "Requirement already satisfied: urllib3<1.27,>=1.21.1 in /usr/local/lib/python3.10/dist-packages (from requests<3,>=2.21.0->tensorboard<2.13,>=2.12->tensorflow->neuralintents) (1.26.15)\n",
            "Requirement already satisfied: idna<4,>=2.5 in /usr/local/lib/python3.10/dist-packages (from requests<3,>=2.21.0->tensorboard<2.13,>=2.12->tensorflow->neuralintents) (3.4)\n",
            "Requirement already satisfied: certifi>=2017.4.17 in /usr/local/lib/python3.10/dist-packages (from requests<3,>=2.21.0->tensorboard<2.13,>=2.12->tensorflow->neuralintents) (2022.12.7)\n",
            "Requirement already satisfied: charset-normalizer~=2.0.0 in /usr/local/lib/python3.10/dist-packages (from requests<3,>=2.21.0->tensorboard<2.13,>=2.12->tensorflow->neuralintents) (2.0.12)\n",
            "Requirement already satisfied: MarkupSafe>=2.1.1 in /usr/local/lib/python3.10/dist-packages (from werkzeug>=1.0.1->tensorboard<2.13,>=2.12->tensorflow->neuralintents) (2.1.2)\n",
            "Requirement already satisfied: pyasn1<0.6.0,>=0.4.6 in /usr/local/lib/python3.10/dist-packages (from pyasn1-modules>=0.2.1->google-auth<3,>=1.6.3->tensorboard<2.13,>=2.12->tensorflow->neuralintents) (0.5.0)\n",
            "Requirement already satisfied: oauthlib>=3.0.0 in /usr/local/lib/python3.10/dist-packages (from requests-oauthlib>=0.7.0->google-auth-oauthlib<1.1,>=0.5->tensorboard<2.13,>=2.12->tensorflow->neuralintents) (3.2.2)\n",
            "Installing collected packages: neuralintents\n",
            "Successfully installed neuralintents-0.0.4\n"
          ]
        }
      ],
      "source": [
        "pip install neuralintents \n"
      ]
    },
    {
      "cell_type": "code",
      "source": [
        "pip install mplfinance"
      ],
      "metadata": {
        "id": "w1wx24AJ9fE1",
        "colab": {
          "base_uri": "https://localhost:8080/"
        },
        "outputId": "1a3d9bc6-2fa0-41ef-c886-9234ee85c612"
      },
      "execution_count": 2,
      "outputs": [
        {
          "output_type": "stream",
          "name": "stdout",
          "text": [
            "Looking in indexes: https://pypi.org/simple, https://us-python.pkg.dev/colab-wheels/public/simple/\n",
            "Collecting mplfinance\n",
            "  Downloading mplfinance-0.12.9b7-py3-none-any.whl (73 kB)\n",
            "\u001b[2K     \u001b[90m━━━━━━━━━━━━━━━━━━━━━━━━━━━━━━━━━━━━━━━━\u001b[0m \u001b[32m73.1/73.1 kB\u001b[0m \u001b[31m2.7 MB/s\u001b[0m eta \u001b[36m0:00:00\u001b[0m\n",
            "\u001b[?25hRequirement already satisfied: matplotlib in /usr/local/lib/python3.10/dist-packages (from mplfinance) (3.7.1)\n",
            "Requirement already satisfied: pandas in /usr/local/lib/python3.10/dist-packages (from mplfinance) (1.5.3)\n",
            "Requirement already satisfied: python-dateutil>=2.7 in /usr/local/lib/python3.10/dist-packages (from matplotlib->mplfinance) (2.8.2)\n",
            "Requirement already satisfied: pyparsing>=2.3.1 in /usr/local/lib/python3.10/dist-packages (from matplotlib->mplfinance) (3.0.9)\n",
            "Requirement already satisfied: cycler>=0.10 in /usr/local/lib/python3.10/dist-packages (from matplotlib->mplfinance) (0.11.0)\n",
            "Requirement already satisfied: kiwisolver>=1.0.1 in /usr/local/lib/python3.10/dist-packages (from matplotlib->mplfinance) (1.4.4)\n",
            "Requirement already satisfied: fonttools>=4.22.0 in /usr/local/lib/python3.10/dist-packages (from matplotlib->mplfinance) (4.39.3)\n",
            "Requirement already satisfied: contourpy>=1.0.1 in /usr/local/lib/python3.10/dist-packages (from matplotlib->mplfinance) (1.0.7)\n",
            "Requirement already satisfied: numpy>=1.20 in /usr/local/lib/python3.10/dist-packages (from matplotlib->mplfinance) (1.22.4)\n",
            "Requirement already satisfied: pillow>=6.2.0 in /usr/local/lib/python3.10/dist-packages (from matplotlib->mplfinance) (8.4.0)\n",
            "Requirement already satisfied: packaging>=20.0 in /usr/local/lib/python3.10/dist-packages (from matplotlib->mplfinance) (23.1)\n",
            "Requirement already satisfied: pytz>=2020.1 in /usr/local/lib/python3.10/dist-packages (from pandas->mplfinance) (2022.7.1)\n",
            "Requirement already satisfied: six>=1.5 in /usr/local/lib/python3.10/dist-packages (from python-dateutil>=2.7->matplotlib->mplfinance) (1.16.0)\n",
            "Installing collected packages: mplfinance\n",
            "Successfully installed mplfinance-0.12.9b7\n"
          ]
        }
      ]
    },
    {
      "cell_type": "code",
      "source": [
        "from neuralintents import GenericAssistant"
      ],
      "metadata": {
        "id": "dp4JLzo6O2jf"
      },
      "execution_count": 3,
      "outputs": []
    },
    {
      "cell_type": "code",
      "source": [
        "import matplotlib.pyplot as plt\n",
        "import pandas as pd\n",
        "import pandas_datareader as web\n",
        "import mplfinance as mpf\n",
        "import pickle\n",
        "import datetime as dt\n",
        "import sys"
      ],
      "metadata": {
        "id": "hHmgu6JzO_Mf"
      },
      "execution_count": 4,
      "outputs": []
    },
    {
      "cell_type": "code",
      "source": [
        "portfolio={'AAPL':20, 'TSSLA':15, 'GS':10}\n",
        "with open('portfolio.pkl','wb')as f:\n",
        "  portfolio = pickle.dump(portfolio,f)"
      ],
      "metadata": {
        "id": "NtxNAd7ayZBs"
      },
      "execution_count": 6,
      "outputs": []
    },
    {
      "cell_type": "code",
      "source": [
        "portfolio={'Apple':20, 'Tesla':5, 'Ibm':10}\n",
        "with open('portfolio.pkl','rb')as f:\n",
        "  portfolio = pickle.load(f)\n",
        "print(portfolio)"
      ],
      "metadata": {
        "colab": {
          "base_uri": "https://localhost:8080/"
        },
        "id": "Wzm4jjkYjDG3",
        "outputId": "0c7374a6-e8a6-4501-d18c-be6b1e70dc95"
      },
      "execution_count": 7,
      "outputs": [
        {
          "output_type": "stream",
          "name": "stdout",
          "text": [
            "{'AAPL': 20, 'TSSLA': 15, 'GS': 10}\n"
          ]
        }
      ]
    },
    {
      "cell_type": "code",
      "source": [
        "def greetings():\n",
        "  pass"
      ],
      "metadata": {
        "id": "O9YhkxGstyHx"
      },
      "execution_count": 8,
      "outputs": []
    },
    {
      "cell_type": "code",
      "source": [
        "def save_portfolio():\n",
        "  with open('portfolio.pkl','wb')as f:\n",
        "    pickle.dump(portfolio, f)"
      ],
      "metadata": {
        "id": "hKpgDi8SjdEg"
      },
      "execution_count": 9,
      "outputs": []
    },
    {
      "cell_type": "code",
      "source": [
        "def add_portfolio():\n",
        "  ticker = input(\"Which stock do you want to add: \")\n",
        "  amount = input(\"How many shares do you want to add: \")\n",
        "\n",
        "  if ticker in portfolio.keys():\n",
        "    portfolio[ticker]+=amount\n",
        "  else:\n",
        "    portfolio[ticker]=amount\n",
        "\n",
        "  save_portfolio()"
      ],
      "metadata": {
        "id": "k5KDDnxvn_v9"
      },
      "execution_count": 10,
      "outputs": []
    },
    {
      "cell_type": "code",
      "source": [
        "def remove_portfolio():\n",
        "  ticker = input(\"Which stock do you want to sell: \")\n",
        "  amount = input(\"How many shares do you want to sell: \")\n",
        "\n",
        "  if ticker in portfolio.keys():\n",
        "    if amount<=portfolio[ticker]:\n",
        "      portfolio[ticker]-=amount\n",
        "      save_portfolio()\n",
        "    else:\n",
        "      print(\"You don't have enough shares\")\n",
        "  else:\n",
        "    print(\"You don't own any shares of {ticker}\")"
      ],
      "metadata": {
        "id": "m-LU07Hlo2AS"
      },
      "execution_count": 11,
      "outputs": []
    },
    {
      "cell_type": "code",
      "source": [
        "def show_portfolio():\n",
        "    print(\"Your portfolio: \")\n",
        "    for ticker in portfolio.keys():\n",
        "        print(f\"YOu own {portfolio[ticker]} shares of {ticker}\")"
      ],
      "metadata": {
        "id": "YmZDEsU5pia_"
      },
      "execution_count": 12,
      "outputs": []
    },
    {
      "cell_type": "code",
      "source": [
        "def portfolio_worth():\n",
        "    sum = 0\n",
        "    for ticker in portfolio.keys():\n",
        "\n",
        "        print(ticker)\n",
        "        data = web.get_data_yahoo(ticker)\n",
        "        price = data['Close'].iloc[-1]\n",
        "        sum += price\n",
        "    print(f\"Your portfolio is worth {sum} USD\")"
      ],
      "metadata": {
        "id": "i1mzkOOtsJHz"
      },
      "execution_count": 13,
      "outputs": []
    },
    {
      "cell_type": "code",
      "execution_count": 14,
      "metadata": {
        "id": "XixwF8v9qDlL"
      },
      "outputs": [],
      "source": [
        "def portfolio_gains():\n",
        "    starting_date = input(\"Enter a date of comparison (YYYY-MM-DD): \")\n",
        "    sum_now=0\n",
        "    sum_then=0\n",
        "    try:\n",
        "        for ticker in portfolio.keys():\n",
        "            data = web.get_data_yahoo(ticker)\n",
        "            price_now = data['Close'].iloc[-1]\n",
        "            price_then = data.loc[data.index == starting_date]['Close'].values[0]\n",
        "            sum_now += price_now\n",
        "            sum_then += price_then\n",
        "\n",
        "        print(f\"Relative Gains: {((sum_now-sum_then)/sum_then)*100}%\")\n",
        "        print(f\"Absolute Gains: {sum_now-sum_then} USD\")\n",
        "    except IndexError:\n",
        "        print(\"There was no trading on this day!\")"
      ]
    },
    {
      "cell_type": "code",
      "source": [
        "def plot_chart():\n",
        "    ticker = input(\"Choose a ticker symbol: \")\n",
        "    starting_string = input(\"Choose a starting date (DD/MM/YYYY): \")\n",
        "    plt.style.use('dark_background')\n",
        "    start = dt.datetime.strptime(starting_string, \"%d/%m/%Y\")\n",
        "    end = dt.datetime.now()\n",
        "    data=web.get_data_yahoo(ticker,start, end)\n",
        "    colors = mpf.make_marketcolors(up='#00ff00', down='#ff0000', wick = ' inherit', edge ='inherit', volume = 'in')\n",
        "    mpf_style = mpf.make_mpf_style(base_mpf_style='nightclouds', marketcolors=colors)\n",
        "    mpf.plot(data,type='candle', style = mpf_style, volume = True)\n",
        "\n",
        "def bye():\n",
        "    print(\"Goodbye\")\n",
        "    sys.exit(0)"
      ],
      "metadata": {
        "id": "Hlw34mDOsKHV"
      },
      "execution_count": 15,
      "outputs": []
    },
    {
      "cell_type": "code",
      "source": [
        "mappings = {\n",
        "    # 'greetings': greetings,\n",
        "    'plot_chart':plot_chart,\n",
        "    \"add_portfolio\":add_portfolio,\n",
        "    'remove_portfolio':remove_portfolio,\n",
        "    'show_portfolio':show_portfolio,\n",
        "    'portfolio_worth':portfolio_worth,\n",
        "    'portfolio_gains':portfolio_gains,\n",
        "    'bye':bye\n",
        "}\n",
        "\n",
        "assistant = GenericAssistant('intents.json',mappings, \"financial_assistant_model\")\n",
        "assistant.train_model()\n",
        "assistant.save_model()"
      ],
      "metadata": {
        "id": "nra4eVgPsZXq"
      },
      "execution_count": null,
      "outputs": []
    },
    {
      "cell_type": "code",
      "source": [
        "while True:\n",
        "  message = str(input(\"\"))\n",
        "  assistant.request(message)"
      ],
      "metadata": {
        "id": "1mpbRIXrsdvD"
      },
      "execution_count": null,
      "outputs": []
    },
    {
      "cell_type": "code",
      "source": [],
      "metadata": {
        "id": "adoGJ2aiPMt1"
      },
      "execution_count": 17,
      "outputs": []
    }
  ]
}